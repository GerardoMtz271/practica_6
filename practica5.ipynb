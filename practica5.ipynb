{
 "cells": [
  {
   "cell_type": "code",
   "execution_count": 1,
   "id": "82d7c62d-2cd4-4888-9915-0d7e42ca88f3",
   "metadata": {},
   "outputs": [],
   "source": [
    "#Parte 1"
   ]
  },
  {
   "cell_type": "code",
   "execution_count": 2,
   "id": "18792509-94a6-41ed-b9c9-d1499c8eab54",
   "metadata": {},
   "outputs": [
    {
     "name": "stdout",
     "output_type": "stream",
     "text": [
      "Accuracy: 0.75\n",
      "Error: 0.25\n",
      "Precision: 0.75\n",
      "Recall: 0.75\n",
      "True Negative Rate: 0.75\n",
      "False Positive Rate: 0.25\n",
      "False Negative Rate: 0.25\n",
      "F1-Score: 0.75\n"
     ]
    }
   ],
   "source": [
    "def accuracy(y_true, y_pred):\n",
    "    correct_predictions = sum([1 for true, pred in zip(y_true, y_pred) if true == pred])\n",
    "    return correct_predictions / len(y_true)\n",
    "\n",
    "def error_rate(y_true, y_pred):\n",
    "    incorrect_predictions = sum([1 for true, pred in zip(y_true, y_pred) if true != pred])\n",
    "    return incorrect_predictions / len(y_true)\n",
    "\n",
    "def confusion_matrix(y_true, y_pred):\n",
    "    TP = sum([1 for true, pred in zip(y_true, y_pred) if true == pred == 1])\n",
    "    TN = sum([1 for true, pred in zip(y_true, y_pred) if true == pred == 0])\n",
    "    FP = sum([1 for true, pred in zip(y_true, y_pred) if true == 0 and pred == 1])\n",
    "    FN = sum([1 for true, pred in zip(y_true, y_pred) if true == 1 and pred == 0])\n",
    "    return TP, TN, FP, FN\n",
    "\n",
    "def precision(TP, FP):\n",
    "    return TP / (TP + FP) if (TP + FP) > 0 else 0\n",
    "\n",
    "def recall(TP, FN):\n",
    "    return TP / (TP + FN) if (TP + FN) > 0 else 0\n",
    "\n",
    "def true_negative_rate(TN, FP):\n",
    "    return TN / (TN + FP) if (TN + FP) > 0 else 0\n",
    "\n",
    "def false_positive_rate(FP, TN):\n",
    "    return FP / (FP + TN) if (FP + TN) > 0 else 0\n",
    "\n",
    "def false_negative_rate(FN, TP):\n",
    "    return FN / (FN + TP) if (FN + TP) > 0 else 0\n",
    "\n",
    "def f1_score(precision_value, recall_value):\n",
    "    return 2 * (precision_value * recall_value) / (precision_value + recall_value) if (precision_value + recall_value) > 0 else 0\n",
    "\n",
    "# Ejemplo de uso\n",
    "y_true = [0, 1, 1, 0, 1, 0, 1, 0]\n",
    "y_pred = [0, 1, 1, 0, 0, 0, 1, 1]\n",
    "\n",
    "# Calcular la matriz de confusión\n",
    "TP, TN, FP, FN = confusion_matrix(y_true, y_pred)\n",
    "\n",
    "# Calcular métricas\n",
    "acc = accuracy(y_true, y_pred)\n",
    "err = error_rate(y_true, y_pred)\n",
    "prec = precision(TP, FP)\n",
    "rec = recall(TP, FN)\n",
    "tnr = true_negative_rate(TN, FP)\n",
    "fpr = false_positive_rate(FP, TN)\n",
    "fnr = false_negative_rate(FN, TP)\n",
    "f1 = f1_score(prec, rec)\n",
    "\n",
    "print(f\"Accuracy: {acc}\")\n",
    "print(f\"Error: {err}\")\n",
    "print(f\"Precision: {prec}\")\n",
    "print(f\"Recall: {rec}\")\n",
    "print(f\"True Negative Rate: {tnr}\")\n",
    "print(f\"False Positive Rate: {fpr}\")\n",
    "print(f\"False Negative Rate: {fnr}\")\n",
    "print(f\"F1-Score: {f1}\")\n"
   ]
  },
  {
   "cell_type": "code",
   "execution_count": 3,
   "id": "89cc4dbc-8418-457a-8109-915e92e20606",
   "metadata": {},
   "outputs": [],
   "source": [
    "# parte 2"
   ]
  },
  {
   "cell_type": "code",
   "execution_count": 4,
   "id": "c1d97b58-9021-47ad-8ab7-494c2d41c22b",
   "metadata": {},
   "outputs": [
    {
     "name": "stdout",
     "output_type": "stream",
     "text": [
      "Accuracy: 0.75\n",
      "Precision: 0.75\n",
      "Recall: 0.75\n",
      "F1-Score: 0.75\n",
      "Matriz de confusión: \n",
      "[[3 1]\n",
      " [1 3]]\n"
     ]
    }
   ],
   "source": [
    "from sklearn.metrics import accuracy_score, precision_score, recall_score, f1_score, confusion_matrix\n",
    "\n",
    "# Ejemplo de datos\n",
    "y_true = [0, 1, 1, 0, 1, 0, 1, 0]\n",
    "y_pred = [0, 1, 1, 0, 0, 0, 1, 1]\n",
    "\n",
    "# Accuracy\n",
    "acc = accuracy_score(y_true, y_pred)\n",
    "\n",
    "# Precision\n",
    "prec = precision_score(y_true, y_pred)\n",
    "\n",
    "# Recall\n",
    "rec = recall_score(y_true, y_pred)\n",
    "\n",
    "# F1-Score\n",
    "f1 = f1_score(y_true, y_pred)\n",
    "\n",
    "# Matriz de confusión\n",
    "cm = confusion_matrix(y_true, y_pred)\n",
    "\n",
    "print(f\"Accuracy: {acc}\")\n",
    "print(f\"Precision: {prec}\")\n",
    "print(f\"Recall: {rec}\")\n",
    "print(f\"F1-Score: {f1}\")\n",
    "print(f\"Matriz de confusión: \\n{cm}\")\n"
   ]
  }
 ],
 "metadata": {
  "kernelspec": {
   "display_name": "Python 3 (ipykernel)",
   "language": "python",
   "name": "python3"
  },
  "language_info": {
   "codemirror_mode": {
    "name": "ipython",
    "version": 3
   },
   "file_extension": ".py",
   "mimetype": "text/x-python",
   "name": "python",
   "nbconvert_exporter": "python",
   "pygments_lexer": "ipython3",
   "version": "3.12.4"
  }
 },
 "nbformat": 4,
 "nbformat_minor": 5
}
